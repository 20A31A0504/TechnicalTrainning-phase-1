{
  "cells": [
    {
      "cell_type": "markdown",
      "metadata": {
        "id": "view-in-github",
        "colab_type": "text"
      },
      "source": [
        "<a href=\"https://colab.research.google.com/github/20A31A0504/TechnicalTrainning-phase-1/blob/main/TechnicalTraining_Day_3.ipynb\" target=\"_parent\"><img src=\"https://colab.research.google.com/assets/colab-badge.svg\" alt=\"Open In Colab\"/></a>"
      ]
    },
    {
      "cell_type": "code",
      "execution_count": null,
      "metadata": {
        "colab": {
          "base_uri": "https://localhost:8080/"
        },
        "id": "baZH5eOSNHgO",
        "outputId": "c593112e-7bcc-4315-9215-c7107b693912"
      },
      "outputs": [
        {
          "name": "stdout",
          "output_type": "stream",
          "text": [
            "23\n",
            "18\n"
          ]
        }
      ],
      "source": [
        "a=18\n",
        "b=23\n",
        "a=a+b\n",
        "b=a-b\n",
        "a=a-b\n",
        "print(a)\n",
        "print(b)"
      ]
    },
    {
      "cell_type": "code",
      "execution_count": null,
      "metadata": {
        "colab": {
          "base_uri": "https://localhost:8080/"
        },
        "id": "o5-mHti2VUzl",
        "outputId": "aad26261-e227-4510-923d-540b4f707d58"
      },
      "outputs": [
        {
          "name": "stdout",
          "output_type": "stream",
          "text": [
            "3.0\n",
            "2.0\n"
          ]
        }
      ],
      "source": [
        "a=2\n",
        "b=3\n",
        "a=a*b\n",
        "b=a/b\n",
        "a=a/b\n",
        "print(a)\n",
        "print(b)"
      ]
    },
    {
      "cell_type": "code",
      "execution_count": null,
      "metadata": {
        "colab": {
          "background_save": true
        },
        "id": "FdJ-7f6yXJAy",
        "outputId": "f1cd2926-44cc-43b8-ae02-64368613c848"
      },
      "outputs": [
        {
          "name": "stdout",
          "output_type": "stream",
          "text": [
            "0.25\n",
            "0.5\n"
          ]
        }
      ],
      "source": [
        "a=2\n",
        "b=3\n",
        "a=a^b\n",
        "b=a*0.5\n",
        "a=a"
      ]
    },
    {
      "cell_type": "code",
      "source": [
        "\"\"\" Numbers \n",
        "1.Amstrong Number,prime numbers,Krishna Murthy's number/strong number,Automorphic number,Sad number,HAppy number,Magic number,Harshed number,Liven's number\"\"\" "
      ],
      "metadata": {
        "id": "VHwkf4W2QZRC"
      },
      "execution_count": null,
      "outputs": []
    },
    {
      "cell_type": "code",
      "source": [
        "\"\"\"pre-defined functions\n",
        "1.len\n",
        "2.+ for concatnation\n",
        "3.min,max\n",
        "4.sorted\n",
        "5.repitition*\n",
        "6.count\n",
        "7.del\n",
        "8.sum\""
      ],
      "metadata": {
        "id": "CbZMRBzX_b9n"
      },
      "execution_count": null,
      "outputs": []
    },
    {
      "cell_type": "code",
      "source": [
        "#Given a maximum\n",
        "num=input()\n",
        "print(int(num,17))"
      ],
      "metadata": {
        "id": "An2pqRhm65Qv",
        "colab": {
          "base_uri": "https://localhost:8080/"
        },
        "outputId": "4ade5633-74bf-4756-f9a2-9a197520c06e"
      },
      "execution_count": null,
      "outputs": [
        {
          "output_type": "stream",
          "name": "stdout",
          "text": [
            "1A\n",
            "27\n"
          ]
        }
      ]
    },
    {
      "cell_type": "code",
      "source": [
        "\"\"\" patterns\n",
        "symmetric, equileteral, diamond, tousers, betterfly,x diagnol,hollow right angle triangle,hollow diamond pattern,pascals triangle,lexiographical pattern\"\"\""
      ],
      "metadata": {
        "id": "TL3azLe665FS"
      },
      "execution_count": null,
      "outputs": []
    },
    {
      "cell_type": "code",
      "source": [
        "l=[-2,34,-24,324,53,2,1]\n",
        "print(sorted(l))"
      ],
      "metadata": {
        "colab": {
          "base_uri": "https://localhost:8080/"
        },
        "id": "ze-HiNYM_D9D",
        "outputId": "54f6b615-a14c-4d44-dd80-1f1016b5bbae"
      },
      "execution_count": null,
      "outputs": [
        {
          "output_type": "stream",
          "name": "stdout",
          "text": [
            "[-24, -2, 1, 2, 34, 53, 324]\n"
          ]
        }
      ]
    },
    {
      "cell_type": "code",
      "source": [
        "#\".\"operator is access granter to the list,\"->\"in c language\n",
        "num=[1,2,45,9]\n",
        "num.append(0)\n",
        "print(num)\n",
        "print(num.count(3))"
      ],
      "metadata": {
        "colab": {
          "base_uri": "https://localhost:8080/"
        },
        "id": "21YtyEWJ_R9J",
        "outputId": "eb854dab-968b-4632-d3ec-64dc38fbe569"
      },
      "execution_count": null,
      "outputs": [
        {
          "output_type": "stream",
          "name": "stdout",
          "text": [
            "[1, 2, 45, 9, 0]\n",
            "0\n"
          ]
        }
      ]
    },
    {
      "cell_type": "code",
      "source": [
        "wa=[6,4,87,454,8,9,5]\n",
        "print(wa.index(8))\n",
        "wa.insert(4,23)\n",
        "\n",
        "wa.remove(9)\n",
        "wa.reverse()\n",
        "print(wa)\n"
      ],
      "metadata": {
        "colab": {
          "base_uri": "https://localhost:8080/"
        },
        "id": "z3ifWyDqAw7A",
        "outputId": "697b3fda-3529-4616-d4f8-f15a8956c706"
      },
      "execution_count": null,
      "outputs": [
        {
          "output_type": "stream",
          "name": "stdout",
          "text": [
            "4\n",
            "[5, 8, 23, 454, 87, 4, 6]\n"
          ]
        }
      ]
    },
    {
      "cell_type": "code",
      "source": [
        "#Amstrong number check for variable length input\n",
        "n=int(input())\n",
        "l=len(str(n))\n",
        "n=int(n)\n",
        "m=n\n",
        "s=0\n",
        "while(n>0):\n",
        "  r=n%10\n",
        "  s=s+pow(r,l)\n",
        "  n=n//10\n",
        "if(s==m):\n",
        "  print(\"given number is amstrong\")\n",
        "else:\n",
        "  print('not an amstron')\n"
      ],
      "metadata": {
        "colab": {
          "base_uri": "https://localhost:8080/"
        },
        "id": "Z06GRmwuCtKA",
        "outputId": "27f35420-e2f5-4bc1-c953-600fe044ac1e"
      },
      "execution_count": null,
      "outputs": [
        {
          "output_type": "stream",
          "name": "stdout",
          "text": [
            "54748\n",
            "given number is amstrong\n"
          ]
        }
      ]
    },
    {
      "cell_type": "code",
      "source": [
        "#write a python program to make a list of cubes till the value n,in=n=10,ot=[0,1,8,27,......1000]\n",
        "n=int(input())\n",
        "l=[]\n",
        "for i in range(n+1):\n",
        "  l.append(i*i*i)\n",
        "print(l)\n"
      ],
      "metadata": {
        "colab": {
          "base_uri": "https://localhost:8080/"
        },
        "id": "Tah8f5zoHWhs",
        "outputId": "114ab62c-ffbc-4376-a88f-dfac76ea3300"
      },
      "execution_count": null,
      "outputs": [
        {
          "output_type": "stream",
          "name": "stdout",
          "text": [
            "10\n",
            "[0, 1, 8, 27, 64, 125, 216, 343, 512, 729, 1000]\n"
          ]
        }
      ]
    },
    {
      "cell_type": "code",
      "source": [
        "cubes=[(i**3) for i in range(11)]\n",
        "print(cubes)\n",
        "#print([(i**3) for i in range(11)]) can also gives the same output"
      ],
      "metadata": {
        "colab": {
          "base_uri": "https://localhost:8080/"
        },
        "id": "qi3pAQ3wULpd",
        "outputId": "a797ff84-99a8-467e-b7d0-3bc46a061a94"
      },
      "execution_count": null,
      "outputs": [
        {
          "output_type": "stream",
          "name": "stdout",
          "text": [
            "[0, 1, 8, 27, 64, 125, 216, 343, 512, 729, 1000]\n"
          ]
        }
      ]
    },
    {
      "cell_type": "code",
      "source": [
        "#write a python program to find the absolute value of the difference in between even and odd digits of a given number. in 1,1223 2,4567 3,123456789\n",
        "n=int(input())# n=[int(d) for d in str(input(\"Enter number:\"))]\n",
        "l=[]\n",
        "while(n>0):\n",
        "  l.append(n%10)\n",
        "  n=n//10\n",
        "es=0\n",
        "os=0\n",
        "for i in range(len(l)):\n",
        "  if(l[i]%2==0):\n",
        "    es+=l[i]\n",
        "  else:\n",
        "    os+=l[i]\n",
        "print(abs(es-os))\n"
      ],
      "metadata": {
        "colab": {
          "base_uri": "https://localhost:8080/"
        },
        "id": "FOkRScjgMmuJ",
        "outputId": "d2d9aa44-aa8e-4e8d-ca29-ce3c57fedf2d"
      },
      "execution_count": null,
      "outputs": [
        {
          "output_type": "stream",
          "name": "stdout",
          "text": [
            "123456789\n",
            "5\n"
          ]
        }
      ]
    },
    {
      "cell_type": "code",
      "source": [
        "#geometric series is a combination of different pattern of series\n",
        "#1,1,2,3,4,9.8,27,16,81,32.........\n",
        "term=int(input(\"enter the term\"))\n",
        "if term%2==0:\n",
        "  term=term//2\n",
        "  print(3**(term-1))\n",
        "else:\n",
        "  term=term//2+1\n",
        "  print(2**(term-1))"
      ],
      "metadata": {
        "colab": {
          "base_uri": "https://localhost:8080/"
        },
        "id": "0twO_eFSQ1qV",
        "outputId": "e84e0da0-e42f-468c-f5dc-e6f8f0bbabe7"
      },
      "execution_count": null,
      "outputs": [
        {
          "output_type": "stream",
          "name": "stdout",
          "text": [
            "enter the term16\n",
            "2187\n"
          ]
        }
      ]
    },
    {
      "cell_type": "code",
      "source": [
        "#0,0,7,6,14,12,21,18,24........\n",
        "term=int(input(\"enter the term:\"))\n",
        "if term%2==0:\n",
        "  term=term//2\n",
        "  print(6*(term-1))\n",
        "else:\n",
        "  term=term//2+1\n",
        "  print(7*(term-1))"
      ],
      "metadata": {
        "id": "drgTgeYqbBHK",
        "colab": {
          "base_uri": "https://localhost:8080/"
        },
        "outputId": "914cd02c-603c-4374-ecb7-3e2ac5203409"
      },
      "execution_count": null,
      "outputs": [
        {
          "output_type": "stream",
          "name": "stdout",
          "text": [
            "enter the term:13\n",
            "42\n"
          ]
        }
      ]
    },
    {
      "cell_type": "code",
      "source": [
        "val=int(input(\"enter the number:\"))\n",
        "x=0\n",
        "y=0\n",
        "for i in range(1,val+1):\n",
        "  if(i%2!=0):\n",
        "    x=x+7\n",
        "  else:\n",
        "    y=y+6\n",
        "if(val%2!=0):\n",
        "  print('{} term in the program is {}'.format(val,x-7))\n",
        "else:\n",
        "  print('{} term in the program is {}'.format(val,y-6))"
      ],
      "metadata": {
        "id": "HOYPOOrSbOaz",
        "colab": {
          "base_uri": "https://localhost:8080/"
        },
        "outputId": "41d964b5-2e0b-446d-a528-82f13ff02776"
      },
      "execution_count": null,
      "outputs": [
        {
          "output_type": "stream",
          "name": "stdout",
          "text": [
            "enter the number:13\n",
            "13 term in the program is 42\n"
          ]
        }
      ]
    },
    {
      "cell_type": "code",
      "source": [],
      "metadata": {
        "id": "o2rxIsklaHfC"
      },
      "execution_count": null,
      "outputs": []
    }
  ],
  "metadata": {
    "colab": {
      "provenance": [],
      "authorship_tag": "ABX9TyNHuY1n5ptnFB7z72p4aFlK",
      "include_colab_link": true
    },
    "kernelspec": {
      "display_name": "Python 3",
      "name": "python3"
    },
    "language_info": {
      "name": "python"
    }
  },
  "nbformat": 4,
  "nbformat_minor": 0
}