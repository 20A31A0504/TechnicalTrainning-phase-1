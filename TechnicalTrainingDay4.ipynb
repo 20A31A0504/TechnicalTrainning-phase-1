{
  "nbformat": 4,
  "nbformat_minor": 0,
  "metadata": {
    "colab": {
      "provenance": [],
      "authorship_tag": "ABX9TyMvC8MGmrtHywzjvXmtjJ+R",
      "include_colab_link": true
    },
    "kernelspec": {
      "name": "python3",
      "display_name": "Python 3"
    },
    "language_info": {
      "name": "python"
    }
  },
  "cells": [
    {
      "cell_type": "markdown",
      "metadata": {
        "id": "view-in-github",
        "colab_type": "text"
      },
      "source": [
        "<a href=\"https://colab.research.google.com/github/20A31A0504/TechnicalTrainning-phase-1/blob/main/TechnicalTrainingDay4.ipynb\" target=\"_parent\"><img src=\"https://colab.research.google.com/assets/colab-badge.svg\" alt=\"Open In Colab\"/></a>"
      ]
    },
    {
      "cell_type": "code",
      "execution_count": null,
      "metadata": {
        "id": "pGUilBeAa4Y7"
      },
      "outputs": [],
      "source": [
        "#Strings\n",
        "#palindrome/symmetrical\n",
        "#check whether the given name  is anagram\n",
        "#Anagram->rearrange the characters of given string into another meaningful string of same length and same characters.Ex: god-dog, raw-war,listen-silent\n",
        "#Tom riddles Anagram->Harry Potter-try Hero part"
      ]
    },
    {
      "cell_type": "code",
      "source": [
        "#ceaser-cipher by 2\n",
        "#Danger-fcpigt\n",
        "s=input(\"Enter the code:\")\n",
        "s2=\" \"\n",
        "for i in s:\n",
        "  s2=s2+(chr((ord(i)+2)))\n",
        "\n",
        "print(s2)"
      ],
      "metadata": {
        "colab": {
          "base_uri": "https://localhost:8080/"
        },
        "id": "CjWR2MWHdPLo",
        "outputId": "ec524c10-b3af-4c53-9e11-51de7319ccb7"
      },
      "execution_count": null,
      "outputs": [
        {
          "output_type": "stream",
          "name": "stdout",
          "text": [
            "Enter the code:danger\n",
            " fcpigt\n"
          ]
        }
      ]
    },
    {
      "cell_type": "code",
      "source": [
        "text='india'\n",
        "for i in range(len(text)):\n",
        "  print(\"text[\",i,\"]=\",text[i])"
      ],
      "metadata": {
        "colab": {
          "base_uri": "https://localhost:8080/"
        },
        "id": "KMb2UVvGeFO-",
        "outputId": "b4db66f3-4b8f-42cf-e458-056b490cbb0b"
      },
      "execution_count": null,
      "outputs": [
        {
          "output_type": "stream",
          "name": "stdout",
          "text": [
            "text[ 0 ]= i\n",
            "text[ 1 ]= n\n",
            "text[ 2 ]= d\n",
            "text[ 3 ]= i\n",
            "text[ 4 ]= a\n"
          ]
        }
      ]
    },
    {
      "cell_type": "code",
      "source": [
        "#captilize\n",
        "text='india is great'\n",
        "print((text.title()))"
      ],
      "metadata": {
        "colab": {
          "base_uri": "https://localhost:8080/"
        },
        "id": "n4Dh3kSEiGiq",
        "outputId": "724b8d7d-33cb-4dd0-a3fe-c16cf62887d8"
      },
      "execution_count": null,
      "outputs": [
        {
          "output_type": "stream",
          "name": "stdout",
          "text": [
            "India Is Great\n"
          ]
        }
      ]
    },
    {
      "cell_type": "code",
      "source": [
        "str1='India Is Great'\n",
        "print(str1.swapcase())"
      ],
      "metadata": {
        "colab": {
          "base_uri": "https://localhost:8080/"
        },
        "id": "O9xgPCgMiw5R",
        "outputId": "79dae33a-f580-4a74-a510-ef0b6c01d5fe"
      },
      "execution_count": null,
      "outputs": [
        {
          "output_type": "stream",
          "name": "stdout",
          "text": [
            "iNDIA iS gREAT\n"
          ]
        }
      ]
    },
    {
      "cell_type": "code",
      "source": [
        "str1='India,Is,Great'\n",
        "print(str1.split(','))"
      ],
      "metadata": {
        "colab": {
          "base_uri": "https://localhost:8080/"
        },
        "id": "dolU-IPZjUsp",
        "outputId": "7ac6ca1c-d89c-4e8d-8030-771ad0526015"
      },
      "execution_count": null,
      "outputs": [
        {
          "output_type": "stream",
          "name": "stdout",
          "text": [
            "['India', ' Is', ' Great']\n"
          ]
        }
      ]
    },
    {
      "cell_type": "code",
      "source": [
        "print('-'.join(['India','Is','Great']))"
      ],
      "metadata": {
        "colab": {
          "base_uri": "https://localhost:8080/"
        },
        "id": "ZaATLnAaj2hl",
        "outputId": "dc819703-55a7-4a8c-dc8e-50f49a47bd1f"
      },
      "execution_count": null,
      "outputs": [
        {
          "output_type": "stream",
          "name": "stdout",
          "text": [
            "India-Is-Great\n"
          ]
        }
      ]
    },
    {
      "cell_type": "code",
      "source": [
        "#enumerate can only be evaluate in list\n",
        "str1='donkey monkey'\n",
        "print(list(enumerate(str1)))"
      ],
      "metadata": {
        "colab": {
          "base_uri": "https://localhost:8080/"
        },
        "id": "M4xNCmTtkjO0",
        "outputId": "1e0c3173-fe31-4ed0-ae3c-78011f391fbe"
      },
      "execution_count": null,
      "outputs": [
        {
          "output_type": "stream",
          "name": "stdout",
          "text": [
            "[(0, 'd'), (1, 'o'), (2, 'n'), (3, 'k'), (4, 'e'), (5, 'y'), (6, ' '), (7, 'm'), (8, 'o'), (9, 'n'), (10, 'k'), (11, 'e'), (12, 'y')]\n"
          ]
        }
      ]
    },
    {
      "cell_type": "code",
      "source": [
        "#zfill fills the zeros upto the given numbers\n",
        "str2='6'\n",
        "print(str2.zfill(4))"
      ],
      "metadata": {
        "colab": {
          "base_uri": "https://localhost:8080/"
        },
        "id": "NXNMGQ8FlE0u",
        "outputId": "bb38d12e-4f83-4290-99ff-e1627c78f628"
      },
      "execution_count": null,
      "outputs": [
        {
          "output_type": "stream",
          "name": "stdout",
          "text": [
            "0006\n"
          ]
        }
      ]
    },
    {
      "cell_type": "code",
      "source": [
        "import string\n",
        "print(type(string.digits))"
      ],
      "metadata": {
        "id": "e_cwAZs_r5qA",
        "colab": {
          "base_uri": "https://localhost:8080/"
        },
        "outputId": "e1d7869a-a8d9-4829-c0b1-03f906a381b1"
      },
      "execution_count": null,
      "outputs": [
        {
          "output_type": "stream",
          "name": "stdout",
          "text": [
            "<class 'str'>\n"
          ]
        }
      ]
    },
    {
      "cell_type": "code",
      "source": [
        "import string\n",
        "print((string.digits))"
      ],
      "metadata": {
        "colab": {
          "base_uri": "https://localhost:8080/"
        },
        "id": "0BZKX9TXMcn5",
        "outputId": "6b340ade-c25d-4626-f5dd-8220a44a5ffe"
      },
      "execution_count": null,
      "outputs": [
        {
          "output_type": "stream",
          "name": "stdout",
          "text": [
            "0123456789\n"
          ]
        }
      ]
    },
    {
      "cell_type": "code",
      "source": [
        "import string\n",
        "print(string.ascii_letters)"
      ],
      "metadata": {
        "colab": {
          "base_uri": "https://localhost:8080/"
        },
        "id": "li2GSe0tMswN",
        "outputId": "8c291da2-51fb-429f-bf43-481c45e7eb84"
      },
      "execution_count": null,
      "outputs": [
        {
          "output_type": "stream",
          "name": "stdout",
          "text": [
            "abcdefghijklmnopqrstuvwxyzABCDEFGHIJKLMNOPQRSTUVWXYZ\n"
          ]
        }
      ]
    },
    {
      "cell_type": "code",
      "source": [
        "print(string.find(string.ascii_lowercase,'g'!=-1))"
      ],
      "metadata": {
        "colab": {
          "base_uri": "https://localhost:8080/",
          "height": 167
        },
        "id": "sY42nfDcMxj6",
        "outputId": "f7c97283-caa8-4f85-90bb-f8220185a864"
      },
      "execution_count": null,
      "outputs": [
        {
          "output_type": "error",
          "ename": "AttributeError",
          "evalue": "ignored",
          "traceback": [
            "\u001b[0;31m---------------------------------------------------------------------------\u001b[0m",
            "\u001b[0;31mAttributeError\u001b[0m                            Traceback (most recent call last)",
            "\u001b[0;32m<ipython-input-4-4d2fb8cb727d>\u001b[0m in \u001b[0;36m<module>\u001b[0;34m\u001b[0m\n\u001b[0;32m----> 1\u001b[0;31m \u001b[0mprint\u001b[0m\u001b[0;34m(\u001b[0m\u001b[0mstring\u001b[0m\u001b[0;34m.\u001b[0m\u001b[0mfind\u001b[0m\u001b[0;34m(\u001b[0m\u001b[0mstring\u001b[0m\u001b[0;34m.\u001b[0m\u001b[0mascii_lowercase\u001b[0m\u001b[0;34m,\u001b[0m\u001b[0;34m'g'\u001b[0m\u001b[0;34m!=\u001b[0m\u001b[0;34m-\u001b[0m\u001b[0;36m1\u001b[0m\u001b[0;34m)\u001b[0m\u001b[0;34m)\u001b[0m\u001b[0;34m\u001b[0m\u001b[0;34m\u001b[0m\u001b[0m\n\u001b[0m",
            "\u001b[0;31mAttributeError\u001b[0m: module 'string' has no attribute 'find'"
          ]
        }
      ]
    },
    {
      "cell_type": "code",
      "source": [
        "print('g' in string.lowercase)"
      ],
      "metadata": {
        "colab": {
          "base_uri": "https://localhost:8080/",
          "height": 167
        },
        "id": "G-8SMEyQNLpM",
        "outputId": "9aadfd7c-8afd-484e-f0d6-4e2cb9cd7fdc"
      },
      "execution_count": null,
      "outputs": [
        {
          "output_type": "error",
          "ename": "AttributeError",
          "evalue": "ignored",
          "traceback": [
            "\u001b[0;31m---------------------------------------------------------------------------\u001b[0m",
            "\u001b[0;31mAttributeError\u001b[0m                            Traceback (most recent call last)",
            "\u001b[0;32m<ipython-input-5-a0245ef48db3>\u001b[0m in \u001b[0;36m<module>\u001b[0;34m\u001b[0m\n\u001b[0;32m----> 1\u001b[0;31m \u001b[0mprint\u001b[0m\u001b[0;34m(\u001b[0m\u001b[0;34m'g'\u001b[0m \u001b[0;32min\u001b[0m \u001b[0mstring\u001b[0m\u001b[0;34m.\u001b[0m\u001b[0mlowercase\u001b[0m\u001b[0;34m)\u001b[0m\u001b[0;34m\u001b[0m\u001b[0;34m\u001b[0m\u001b[0m\n\u001b[0m",
            "\u001b[0;31mAttributeError\u001b[0m: module 'string' has no attribute 'lowercase'"
          ]
        }
      ]
    },
    {
      "cell_type": "code",
      "source": [
        "ch='g'\n",
        "print('a' <=ch <='z')"
      ],
      "metadata": {
        "colab": {
          "base_uri": "https://localhost:8080/"
        },
        "id": "3NQ6lLyBNgA9",
        "outputId": "c9ffe5fd-cf79-4420-c21a-229bdd51dd69"
      },
      "execution_count": null,
      "outputs": [
        {
          "output_type": "stream",
          "name": "stdout",
          "text": [
            "True\n"
          ]
        }
      ]
    },
    {
      "cell_type": "code",
      "source": [
        "str1='hello'\n",
        "print(dir(str1))"
      ],
      "metadata": {
        "colab": {
          "base_uri": "https://localhost:8080/"
        },
        "id": "AjFAqBLFNvr-",
        "outputId": "9249a869-07bf-4161-9002-317af233b06b"
      },
      "execution_count": null,
      "outputs": [
        {
          "output_type": "stream",
          "name": "stdout",
          "text": [
            "['__add__', '__class__', '__contains__', '__delattr__', '__dir__', '__doc__', '__eq__', '__format__', '__ge__', '__getattribute__', '__getitem__', '__getnewargs__', '__gt__', '__hash__', '__init__', '__init_subclass__', '__iter__', '__le__', '__len__', '__lt__', '__mod__', '__mul__', '__ne__', '__new__', '__reduce__', '__reduce_ex__', '__repr__', '__rmod__', '__rmul__', '__setattr__', '__sizeof__', '__str__', '__subclasshook__', 'capitalize', 'casefold', 'center', 'count', 'encode', 'endswith', 'expandtabs', 'find', 'format', 'format_map', 'index', 'isalnum', 'isalpha', 'isascii', 'isdecimal', 'isdigit', 'isidentifier', 'islower', 'isnumeric', 'isprintable', 'isspace', 'istitle', 'isupper', 'join', 'ljust', 'lower', 'lstrip', 'maketrans', 'partition', 'replace', 'rfind', 'rindex', 'rjust', 'rpartition', 'rsplit', 'rstrip', 'split', 'splitlines', 'startswith', 'strip', 'swapcase', 'title', 'translate', 'upper', 'zfill']\n"
          ]
        }
      ]
    },
    {
      "cell_type": "code",
      "source": [
        "#This the program to demonstrate match function using re-import\n",
        "import re\n",
        "str1=\"She sells sea shells at sea shore\"\n",
        "p1=\"sells\"\n",
        "if re.search(p1,str1):\n",
        "  print(\"match found\")\n",
        "else:\n",
        "  print(p1,\"not present in string\")"
      ],
      "metadata": {
        "colab": {
          "base_uri": "https://localhost:8080/"
        },
        "id": "gO_b6ac6Ojml",
        "outputId": "67b88ffa-4e84-45c1-bd3e-ac75310ed87e"
      },
      "execution_count": null,
      "outputs": [
        {
          "output_type": "stream",
          "name": "stdout",
          "text": [
            "match found\n"
          ]
        }
      ]
    },
    {
      "cell_type": "code",
      "source": [
        "str1=\"She sells sea shells at sea shore\"\n",
        "p1=\"sells\"\n",
        "if re.match(p1,str1):\n",
        "  print(\"match found\")\n",
        "else:\n",
        "  print(p1,\"not present in string\")"
      ],
      "metadata": {
        "colab": {
          "base_uri": "https://localhost:8080/"
        },
        "id": "HXVns5JwQkO1",
        "outputId": "b87a9874-0a05-4dbc-8a5c-b0321e71aa9b"
      },
      "execution_count": null,
      "outputs": [
        {
          "output_type": "stream",
          "name": "stdout",
          "text": [
            "sells not present in string\n"
          ]
        }
      ]
    },
    {
      "cell_type": "code",
      "source": [
        "str1=\"She sells sea shells at sea shore\"\n",
        "p1=\"sells\"\n",
        "rep='ocean'\n",
        "ns=re.sub(p1,rep,str1,1)\n",
        "print(ns)"
      ],
      "metadata": {
        "colab": {
          "base_uri": "https://localhost:8080/"
        },
        "id": "711AnQQQQpKt",
        "outputId": "8e72a37d-45a5-451d-cae0-0de73dd51c8a"
      },
      "execution_count": null,
      "outputs": [
        {
          "output_type": "stream",
          "name": "stdout",
          "text": [
            "She ocean sea shells at sea shore\n"
          ]
        }
      ]
    },
    {
      "cell_type": "code",
      "source": [
        "import re\n",
        "p=r\"[aeiou]\"\n",
        "if re.search(p,\"clue\"):\n",
        "  print(\"matchy vowel\")"
      ],
      "metadata": {
        "colab": {
          "base_uri": "https://localhost:8080/"
        },
        "id": "9Zl_-q7YR5UR",
        "outputId": "0ca51ca2-5f54-42e0-f6f8-fa6ec286932d"
      },
      "execution_count": null,
      "outputs": [
        {
          "output_type": "stream",
          "name": "stdout",
          "text": [
            "matchy vowel\n"
          ]
        }
      ]
    },
    {
      "cell_type": "code",
      "source": [
        "#write a program to check whether the given input is satisfing the condition of anagram.  \n",
        "#input-listen,silent output: true\n",
        "#input-race,acer output: true\n",
        "in1=input()\n",
        "in2=input()\n",
        "if(len(in1)==len(in2)):\n",
        "  if(sorted(in1)==sorted(in2)):\n",
        "    print(\"Anagram\")\n",
        "  else:\n",
        "    print(\"not an anagram\")\n",
        "else:\n",
        "  print(\"not have a chance for anagram\")"
      ],
      "metadata": {
        "colab": {
          "base_uri": "https://localhost:8080/"
        },
        "id": "Kp8Fs03bTcm-",
        "outputId": "3dd5ddb8-7a5f-4606-8aca-c45f91d404b8"
      },
      "execution_count": null,
      "outputs": [
        {
          "output_type": "stream",
          "name": "stdout",
          "text": [
            "raw\n",
            "wetr\n",
            "not have a chance for anagram\n"
          ]
        }
      ]
    },
    {
      "cell_type": "code",
      "source": [
        "from collections import Counter\n",
        "def check(str1,str2):\n",
        "  if(Counter(str1)==Counter(str2)):\n",
        "    print(\"true\")\n",
        "  else:\n",
        "    print(\"not\")\n",
        "str1=\"silent\"\n",
        "str2=\"listen\"\n",
        "check(str1,str2)"
      ],
      "metadata": {
        "colab": {
          "base_uri": "https://localhost:8080/"
        },
        "id": "bLoYiU9NVgu8",
        "outputId": "7cb74095-a618-48df-f7d0-eb5067d645e4"
      },
      "execution_count": null,
      "outputs": [
        {
          "output_type": "stream",
          "name": "stdout",
          "text": [
            "true\n"
          ]
        }
      ]
    },
    {
      "cell_type": "code",
      "source": [
        "#0,0,2,1,4,2,6,3,8,4,10,5,12,6,14,7,16,8...\n",
        "term=int(input())\n",
        "if(term%2==0):\n",
        "  term=term//2\n",
        "  print((term-1))\n",
        "else:\n",
        "  term=term//2+1\n",
        "  print(2*(term-1))"
      ],
      "metadata": {
        "colab": {
          "base_uri": "https://localhost:8080/"
        },
        "id": "cvaqiS97YHm1",
        "outputId": "ddfe4623-ea6d-45b1-fac7-3182ec9a8f37"
      },
      "execution_count": null,
      "outputs": [
        {
          "output_type": "stream",
          "name": "stdout",
          "text": [
            "16\n",
            "7\n"
          ]
        }
      ]
    },
    {
      "cell_type": "code",
      "source": [
        "n=int(input())\n",
        "sn=input()\n",
        "m=0\n",
        "c=0\n",
        "for i in range(n):\n",
        "  if(sn[i]==\"1\"):\n",
        "    c+=1\n",
        "  else:\n",
        "    m=max(c,m)\n",
        "\n",
        "    c=0\n",
        "print(m)\n"
      ],
      "metadata": {
        "id": "Pum7bNWzZhM3",
        "colab": {
          "base_uri": "https://localhost:8080/"
        },
        "outputId": "8f134e8d-24c3-483c-8387-ae22977c1ff8"
      },
      "execution_count": null,
      "outputs": [
        {
          "output_type": "stream",
          "name": "stdout",
          "text": [
            "6\n",
            "101000\n",
            "1\n"
          ]
        }
      ]
    },
    {
      "cell_type": "code",
      "source": [
        "x=\"101000\"\n",
        "arr=list(x)\n",
        "print(arr)"
      ],
      "metadata": {
        "colab": {
          "base_uri": "https://localhost:8080/"
        },
        "id": "B_H_bG5JeFNA",
        "outputId": "d259fac0-64e4-4fbb-b569-4785e01a4c43"
      },
      "execution_count": null,
      "outputs": [
        {
          "output_type": "stream",
          "name": "stdout",
          "text": [
            "['1', '0', '1', '0', '0', '0']\n"
          ]
        }
      ]
    },
    {
      "cell_type": "code",
      "source": [
        "size=int(input(\"enter the size of bin:\"))\n",
        "max=count=flag=0\n",
        "x=input()\n",
        "arr=list(x)\n",
        "for i in range(0,size):\n",
        "  if arr[i]=='1':\n",
        "    count=count+1;\n",
        "    flag=1;\n",
        "  elif(arr[i]=='0' and flag==1):\n",
        "    count=0\n",
        "    flag=0\n",
        "  if count>max:\n",
        "      max=count\n",
        "print(max)"
      ],
      "metadata": {
        "colab": {
          "base_uri": "https://localhost:8080/"
        },
        "id": "6Dh0hj0KjAnN",
        "outputId": "7a3c5238-d73e-432d-ef4a-46423fdd4a56"
      },
      "execution_count": null,
      "outputs": [
        {
          "output_type": "stream",
          "name": "stdout",
          "text": [
            "enter the size of bin:6\n",
            "101000\n",
            "1\n"
          ]
        }
      ]
    },
    {
      "cell_type": "code",
      "source": [],
      "metadata": {
        "id": "FI8OAVZAkfC0"
      },
      "execution_count": null,
      "outputs": []
    }
  ]
}