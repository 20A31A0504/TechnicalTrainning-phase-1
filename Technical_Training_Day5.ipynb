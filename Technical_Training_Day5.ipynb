{
  "nbformat": 4,
  "nbformat_minor": 0,
  "metadata": {
    "colab": {
      "provenance": [],
      "authorship_tag": "ABX9TyMOED4frKz/GUtsUgJA0Nlx",
      "include_colab_link": true
    },
    "kernelspec": {
      "name": "python3",
      "display_name": "Python 3"
    },
    "language_info": {
      "name": "python"
    }
  },
  "cells": [
    {
      "cell_type": "markdown",
      "metadata": {
        "id": "view-in-github",
        "colab_type": "text"
      },
      "source": [
        "<a href=\"https://colab.research.google.com/github/20A31A0504/TechnicalTrainning-phase-1/blob/main/Technical_Training_Day5.ipynb\" target=\"_parent\"><img src=\"https://colab.research.google.com/assets/colab-badge.svg\" alt=\"Open In Colab\"/></a>"
      ]
    },
    {
      "cell_type": "code",
      "execution_count": null,
      "metadata": {
        "id": "0mTqJcyzTxIH",
        "colab": {
          "base_uri": "https://localhost:8080/",
          "height": 35
        },
        "outputId": "021ae390-5744-4a47-c9c6-b51a9987ca1a"
      },
      "outputs": [
        {
          "output_type": "execute_result",
          "data": {
            "text/plain": [
              "' 1.No Arg,No return\\n2.Arg,return\\n3.arg,no return\\n4.no arg,return'"
            ],
            "application/vnd.google.colaboratory.intrinsic+json": {
              "type": "string"
            }
          },
          "metadata": {},
          "execution_count": 1
        }
      ],
      "source": [
        "#evaluation of single statement of in conditional statement is called simple statement\n",
        "#if it is having multiple statements in the condition statement is called compound statement\n",
        "#functions in python will accept both type of statements\n",
        "#logical evaluation of a program is step by step evaluation of program\n",
        "#in function the logical evaluation changes\n",
        "#caller(number)-callie(number) should be matched\n",
        "#types of functions\n",
        "\"\"\" 1.No Arg,No return\n",
        "2.Arg,return\n",
        "3.arg,no return\n",
        "4.no arg,return\"\"\""
      ]
    },
    {
      "cell_type": "code",
      "source": [
        "#actual parameters, formal parameters\n",
        "#interview question- which is the first line to execute in this code\n",
        "def total(a,b):\n",
        "   result=a+b\n",
        "   print(\"function result is\",result)\n",
        "def diff(a,b):\n",
        "  result2=a-b\n",
        "  print(\"function result2 is\",result2)\n",
        "def mul(a,b):\n",
        "  result3=a*b\n",
        "  print(\"function result3 is\",result3)\n",
        "def div(a,b):\n",
        "  result4=a/b\n",
        "  print(\"function result4 is\",result4)\n",
        "a=int(input(\"enter the a value:\"))\n",
        "b=int(input(\"enter the b value:\"))\n",
        "total(a,b)\n",
        "diff(a,b)\n",
        "mul(a,b)\n",
        "div(a,b)"
      ],
      "metadata": {
        "colab": {
          "base_uri": "https://localhost:8080/"
        },
        "id": "FdezbGCva8W1",
        "outputId": "87a94501-d21c-40b9-a463-622b81a24131"
      },
      "execution_count": null,
      "outputs": [
        {
          "output_type": "stream",
          "name": "stdout",
          "text": [
            "enter the a value:20\n",
            "enter the b value:10\n",
            "function result is 30\n",
            "function result2 is 10\n",
            "function result3 is 200\n",
            "function result4 is 2.0\n"
          ]
        }
      ]
    },
    {
      "cell_type": "code",
      "source": [
        "#navigational programs starts from while loop and ends with class\n",
        "def dr(money):\n",
        "  print(\"give raseeda the sum of \",money)\n",
        "money=50\n",
        "dr(money)"
      ],
      "metadata": {
        "colab": {
          "base_uri": "https://localhost:8080/"
        },
        "id": "h3KnhI42cZgF",
        "outputId": "b6192363-881e-40fa-bc69-0d0d8b8fe090"
      },
      "execution_count": null,
      "outputs": [
        {
          "output_type": "stream",
          "name": "stdout",
          "text": [
            "give raseeda the sum of  50\n"
          ]
        }
      ]
    },
    {
      "cell_type": "code",
      "source": [
        "def dr(money):\n",
        "  print(\"give raseeda the sum of \"+money)\n",
        "money=50\n",
        "dr(money)"
      ],
      "metadata": {
        "colab": {
          "base_uri": "https://localhost:8080/",
          "height": 304
        },
        "id": "qjvDt_6Ji-Du",
        "outputId": "0a0178f3-3b6f-4174-d9ae-73395da33242"
      },
      "execution_count": null,
      "outputs": [
        {
          "output_type": "error",
          "ename": "TypeError",
          "evalue": "ignored",
          "traceback": [
            "\u001b[0;31m---------------------------------------------------------------------------\u001b[0m",
            "\u001b[0;31mTypeError\u001b[0m                                 Traceback (most recent call last)",
            "\u001b[0;32m<ipython-input-6-a64f1c2c5d6d>\u001b[0m in \u001b[0;36m<module>\u001b[0;34m\u001b[0m\n\u001b[1;32m      2\u001b[0m   \u001b[0mprint\u001b[0m\u001b[0;34m(\u001b[0m\u001b[0;34m\"give raseeda the sum of \"\u001b[0m\u001b[0;34m+\u001b[0m\u001b[0mmoney\u001b[0m\u001b[0;34m)\u001b[0m\u001b[0;34m\u001b[0m\u001b[0;34m\u001b[0m\u001b[0m\n\u001b[1;32m      3\u001b[0m \u001b[0mmoney\u001b[0m\u001b[0;34m=\u001b[0m\u001b[0;36m50\u001b[0m\u001b[0;34m\u001b[0m\u001b[0;34m\u001b[0m\u001b[0m\n\u001b[0;32m----> 4\u001b[0;31m \u001b[0mdr\u001b[0m\u001b[0;34m(\u001b[0m\u001b[0mmoney\u001b[0m\u001b[0;34m)\u001b[0m\u001b[0;34m\u001b[0m\u001b[0;34m\u001b[0m\u001b[0m\n\u001b[0m",
            "\u001b[0;32m<ipython-input-6-a64f1c2c5d6d>\u001b[0m in \u001b[0;36mdr\u001b[0;34m(money)\u001b[0m\n\u001b[1;32m      1\u001b[0m \u001b[0;32mdef\u001b[0m \u001b[0mdr\u001b[0m\u001b[0;34m(\u001b[0m\u001b[0mmoney\u001b[0m\u001b[0;34m)\u001b[0m\u001b[0;34m:\u001b[0m\u001b[0;34m\u001b[0m\u001b[0;34m\u001b[0m\u001b[0m\n\u001b[0;32m----> 2\u001b[0;31m   \u001b[0mprint\u001b[0m\u001b[0;34m(\u001b[0m\u001b[0;34m\"give raseeda the sum of \"\u001b[0m\u001b[0;34m+\u001b[0m\u001b[0mmoney\u001b[0m\u001b[0;34m)\u001b[0m\u001b[0;34m\u001b[0m\u001b[0;34m\u001b[0m\u001b[0m\n\u001b[0m\u001b[1;32m      3\u001b[0m \u001b[0mmoney\u001b[0m\u001b[0;34m=\u001b[0m\u001b[0;36m50\u001b[0m\u001b[0;34m\u001b[0m\u001b[0;34m\u001b[0m\u001b[0m\n\u001b[1;32m      4\u001b[0m \u001b[0mdr\u001b[0m\u001b[0;34m(\u001b[0m\u001b[0mmoney\u001b[0m\u001b[0;34m)\u001b[0m\u001b[0;34m\u001b[0m\u001b[0;34m\u001b[0m\u001b[0m\n",
            "\u001b[0;31mTypeError\u001b[0m: can only concatenate str (not \"int\") to str"
          ]
        }
      ]
    },
    {
      "cell_type": "code",
      "source": [
        "money=50\n",
        "print(\"give raseeda the sum of \"+money)"
      ],
      "metadata": {
        "colab": {
          "base_uri": "https://localhost:8080/",
          "height": 183
        },
        "id": "tG9tYR16jB9c",
        "outputId": "d7e80f29-f29a-4a64-b615-9f6546fd2dd5"
      },
      "execution_count": null,
      "outputs": [
        {
          "output_type": "error",
          "ename": "TypeError",
          "evalue": "ignored",
          "traceback": [
            "\u001b[0;31m---------------------------------------------------------------------------\u001b[0m",
            "\u001b[0;31mTypeError\u001b[0m                                 Traceback (most recent call last)",
            "\u001b[0;32m<ipython-input-7-8d6197872a20>\u001b[0m in \u001b[0;36m<module>\u001b[0;34m\u001b[0m\n\u001b[1;32m      1\u001b[0m \u001b[0mmoney\u001b[0m\u001b[0;34m=\u001b[0m\u001b[0;36m50\u001b[0m\u001b[0;34m\u001b[0m\u001b[0;34m\u001b[0m\u001b[0m\n\u001b[0;32m----> 2\u001b[0;31m \u001b[0mprint\u001b[0m\u001b[0;34m(\u001b[0m\u001b[0;34m\"give raseeda the sum of \"\u001b[0m\u001b[0;34m+\u001b[0m\u001b[0mmoney\u001b[0m\u001b[0;34m)\u001b[0m\u001b[0;34m\u001b[0m\u001b[0;34m\u001b[0m\u001b[0m\n\u001b[0m",
            "\u001b[0;31mTypeError\u001b[0m: can only concatenate str (not \"int\") to str"
          ]
        }
      ]
    },
    {
      "cell_type": "code",
      "source": [
        "def dr(money):\n",
        "  print(\"give raseeda the sum of \",money)\n",
        "\n",
        "dr(50)"
      ],
      "metadata": {
        "colab": {
          "base_uri": "https://localhost:8080/"
        },
        "id": "p9l7DuTtjRVd",
        "outputId": "98cab051-d659-4940-a149-31a45f731593"
      },
      "execution_count": null,
      "outputs": [
        {
          "output_type": "stream",
          "name": "stdout",
          "text": [
            "give raseeda the sum of  50\n"
          ]
        }
      ]
    },
    {
      "cell_type": "code",
      "source": [
        "def dr(money):\n",
        "  print(\"give raseeda the sum of \",money)\n",
        "\n",
        "dr(5*10)"
      ],
      "metadata": {
        "colab": {
          "base_uri": "https://localhost:8080/"
        },
        "id": "ehquS9W3jsN9",
        "outputId": "86bca1d7-5177-4ca7-c620-eebb24b14506"
      },
      "execution_count": null,
      "outputs": [
        {
          "output_type": "stream",
          "name": "stdout",
          "text": [
            "give raseeda the sum of  50\n"
          ]
        }
      ]
    },
    {
      "cell_type": "code",
      "source": [
        "def dr(money):\n",
        "  print(\"give raseeda the sum of \",money)\n",
        "\n",
        "dr(\"fifty Rupees\")"
      ],
      "metadata": {
        "colab": {
          "base_uri": "https://localhost:8080/"
        },
        "id": "8agD3T9mjwX9",
        "outputId": "8c62246b-56c0-413e-f90a-1bd843b4db1f"
      },
      "execution_count": null,
      "outputs": [
        {
          "output_type": "stream",
          "name": "stdout",
          "text": [
            "give raseeda the sum of  fifty Rupees\n"
          ]
        }
      ]
    },
    {
      "cell_type": "code",
      "source": [
        "#on-shore->client(US)\n",
        "#off-shore-> labour(Indian/chinese)\n",
        "#Ex:flipcart\n",
        "#search-Engines works on JSON(search iphone 13)\n",
        "#visual pictures(visual studous->UI/UX)(after searching the product we will have the image of product)\n",
        "#dashboard ->React/SQL/CSS(ADD/buy)\n",
        "#product description-> JAVA,NODE.JS\n",
        "#Cconnecting to bank->Dynamic programming and Data Structures(after clicking to buy product)"
      ],
      "metadata": {
        "id": "xzeqqr55j3nt"
      },
      "execution_count": null,
      "outputs": []
    },
    {
      "cell_type": "code",
      "source": [
        "var=\"Raseeda\"\n",
        "def show():\n",
        "  global var1\n",
        "  var1=\"good girl\"\n",
        "  print('in function var is',var1)\n",
        "show()\n",
        "print(\"out side function \",var1)\n",
        "print(\"variable is var\",var)"
      ],
      "metadata": {
        "colab": {
          "base_uri": "https://localhost:8080/"
        },
        "id": "2ftuocAiqHku",
        "outputId": "2fdf5f56-f021-4819-b582-fed17c6f626a"
      },
      "execution_count": null,
      "outputs": [
        {
          "output_type": "stream",
          "name": "stdout",
          "text": [
            "in function var is good girl\n",
            "out side function  good girl\n",
            "variable is var Raseeda\n"
          ]
        }
      ]
    },
    {
      "cell_type": "code",
      "source": [
        "def outf():\n",
        "  var=10\n",
        "  def innf():\n",
        "    var=20\n",
        "    print(\"inner var\",var)\n",
        "  innf()\n",
        "  print(\"outer var\",var)\n",
        "outf()"
      ],
      "metadata": {
        "colab": {
          "base_uri": "https://localhost:8080/"
        },
        "id": "XpIfX8y_rQe3",
        "outputId": "e79e7777-f55d-4c24-8c87-48ee5ba97662"
      },
      "execution_count": null,
      "outputs": [
        {
          "output_type": "stream",
          "name": "stdout",
          "text": [
            "inner var 20\n",
            "outer var 10\n"
          ]
        }
      ]
    },
    {
      "cell_type": "code",
      "source": [
        "#write a program  with a user defined function which returns an integer value to the caller\n",
        "def cube(x):\n",
        "\n",
        "  return x**3\n",
        "x=int(input())\n",
        "y=cube(x)\n",
        "print(\"y value is\",y)"
      ],
      "metadata": {
        "colab": {
          "base_uri": "https://localhost:8080/"
        },
        "id": "cCEs14rQtHxP",
        "outputId": "77e8ec59-a6c7-4c43-9880-06ff0ad4628f"
      },
      "execution_count": null,
      "outputs": [
        {
          "output_type": "stream",
          "name": "stdout",
          "text": [
            "3\n",
            "y value is 27\n"
          ]
        }
      ]
    },
    {
      "cell_type": "code",
      "source": [
        "#write a program to add six user difined numbers and return the value to the main program. in 8,6,4,2,10,0\n",
        "def ad(l,m,n,o,p,q):\n",
        "  print(l+m+n+o+p+q)\n",
        "\n",
        "l,m,n,o,p,q=8,6,4,2,10,0\n",
        "ad(l,m,n,o,p,q)"
      ],
      "metadata": {
        "colab": {
          "base_uri": "https://localhost:8080/"
        },
        "id": "QVV47meLtvHW",
        "outputId": "a7d3ddb8-6933-4004-9a0c-93034ae99784"
      },
      "execution_count": null,
      "outputs": [
        {
          "output_type": "stream",
          "name": "stdout",
          "text": [
            "30\n"
          ]
        }
      ]
    },
    {
      "cell_type": "code",
      "source": [
        "def display(str1):\n",
        "  print(str1)\n",
        "str1=\"hi\"\n",
        "display(str1)"
      ],
      "metadata": {
        "colab": {
          "base_uri": "https://localhost:8080/"
        },
        "id": "aY1UWkSFwVFO",
        "outputId": "6a65a900-dc8a-4444-a538-417eaf2c939a"
      },
      "execution_count": null,
      "outputs": [
        {
          "output_type": "stream",
          "name": "stdout",
          "text": [
            "hi\n"
          ]
        }
      ]
    },
    {
      "cell_type": "code",
      "source": [
        "def display(name, age):\n",
        "  print(\"name\",name)\n",
        "  print(\"Age\",age)"
      ],
      "metadata": {
        "id": "wdh4oAzmxg9W"
      },
      "execution_count": null,
      "outputs": []
    },
    {
      "cell_type": "code",
      "source": [
        "#write a program to print the fibinacii series using recursion with funtion till 7 terms 1,1,2,3,5,8,13\n",
        "def fib(n):\n",
        "  if n<2:\n",
        "    return 1\n",
        "  else:\n",
        "    return(fib(n-1)+fib(n-2))\n",
        "n=int(input())\n",
        "for i in range(n):\n",
        "  print(\"fibonacci(\",i,\")\",fib(i))"
      ],
      "metadata": {
        "colab": {
          "base_uri": "https://localhost:8080/"
        },
        "id": "WfR8HnS9y6XQ",
        "outputId": "e71c2af3-5712-4ee9-9eca-d93f4bee3fde"
      },
      "execution_count": null,
      "outputs": [
        {
          "output_type": "stream",
          "name": "stdout",
          "text": [
            "6\n",
            "fibonacci( 0 ) 1\n",
            "fibonacci( 1 ) 1\n",
            "fibonacci( 2 ) 2\n",
            "fibonacci( 3 ) 3\n",
            "fibonacci( 4 ) 5\n",
            "fibonacci( 5 ) 8\n"
          ]
        }
      ]
    },
    {
      "cell_type": "code",
      "source": [],
      "metadata": {
        "id": "sVsyVybr0DjI"
      },
      "execution_count": null,
      "outputs": []
    }
  ]
}