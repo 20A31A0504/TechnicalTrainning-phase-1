{
  "nbformat": 4,
  "nbformat_minor": 0,
  "metadata": {
    "colab": {
      "provenance": [],
      "authorship_tag": "ABX9TyNnkKGF5oxGhF9kX0rYoDpk",
      "include_colab_link": true
    },
    "kernelspec": {
      "name": "python3",
      "display_name": "Python 3"
    },
    "language_info": {
      "name": "python"
    }
  },
  "cells": [
    {
      "cell_type": "markdown",
      "metadata": {
        "id": "view-in-github",
        "colab_type": "text"
      },
      "source": [
        "<a href=\"https://colab.research.google.com/github/20A31A0504/TechnicalTrainningDay2/blob/main/Technical_Training_Day_2.ipynb\" target=\"_parent\"><img src=\"https://colab.research.google.com/assets/colab-badge.svg\" alt=\"Open In Colab\"/></a>"
      ]
    },
    {
      "cell_type": "code",
      "execution_count": null,
      "metadata": {
        "colab": {
          "base_uri": "https://localhost:8080/"
        },
        "id": "ifXMaFOARyIt",
        "outputId": "15b4ec3f-52fc-40d6-ca89-f71c95a1625e"
      },
      "outputs": [
        {
          "output_type": "stream",
          "name": "stdout",
          "text": [
            "Enter the email:raseeda2020@gmail.com\n",
            "Enter the password:12345\n",
            "Enter otp5678\n",
            "Login successfully:\n",
            "order placed successfully\n"
          ]
        }
      ],
      "source": [
        "email=\"raseeda2020@gmail.com\"\n",
        "pwd=12345\n",
        "otp=5678\n",
        "iemail=input(\"Enter the email:\")\n",
        "ipwd=int(input(\"Enter the password:\"))\n",
        "iotp=int(input(\"Enter otp:\"))\n",
        "if(email==iemail and pwd==ipwd):\n",
        "    print(\"Login successfully:\")\n",
        "    iotp=int(input(\"Enter otp:\"))\n",
        "    if(otp==iotp):\n",
        "      print(\"your amazon order placed successfully\")\n",
        "    else:\n",
        "      print(\"order cancelled due to wrong otp\")\n",
        "elif(email!=iemail and pwd==ipwd):\n",
        "    print(\"Login failed due to wrong email\")\n",
        "elif(email==iemail and pwd!=ipwd):\n",
        "    print(\"Login failed due to wrong password\")\n",
        "else:\n",
        "    print(\"login failed due to wrong email and password\")\n",
        "    \n"
      ]
    },
    {
      "cell_type": "code",
      "source": [
        "a=5\n",
        "b=True\n",
        "if(1==b):\n",
        "    print(\"yes\")\n",
        "else:\n",
        "    print(\"No\")"
      ],
      "metadata": {
        "colab": {
          "base_uri": "https://localhost:8080/"
        },
        "id": "Xp-GiVNnST2K",
        "outputId": "4975c916-ac58-498e-da8b-3da482dd5b74"
      },
      "execution_count": null,
      "outputs": [
        {
          "output_type": "stream",
          "name": "stdout",
          "text": [
            "yes\n"
          ]
        }
      ]
    },
    {
      "cell_type": "code",
      "source": [],
      "metadata": {
        "id": "EkGouvOYScdp"
      },
      "execution_count": null,
      "outputs": []
    },
    {
      "cell_type": "code",
      "source": [
        "a=5\n",
        "b=5.0\n",
        "if(a==b):\n",
        "    print(\"yes\")\n",
        "else:\n",
        "    print(\"No\")\n"
      ],
      "metadata": {
        "colab": {
          "base_uri": "https://localhost:8080/"
        },
        "id": "1w-moLXqSbp_",
        "outputId": "39814637-af6d-4009-d13b-5ca0b6a4cf97"
      },
      "execution_count": null,
      "outputs": [
        {
          "output_type": "stream",
          "name": "stdout",
          "text": [
            "yes\n"
          ]
        }
      ]
    },
    {
      "cell_type": "code",
      "source": [
        "n=int(input(\"enter the input number:\"))\n",
        "if(n%7==0):\n",
        "    print(\"Given number is divisible by 7\")\n",
        "else:\n",
        "    print(\"Given number is not divisible by 7\")\n"
      ],
      "metadata": {
        "colab": {
          "base_uri": "https://localhost:8080/"
        },
        "id": "b0idunrFSK2_",
        "outputId": "cfe766b6-53ea-437a-ea93-0527ccabc05b"
      },
      "execution_count": null,
      "outputs": [
        {
          "output_type": "stream",
          "name": "stdout",
          "text": [
            "enter the input number:-23\n",
            "Given number is not divisible by 7\n"
          ]
        }
      ]
    },
    {
      "cell_type": "code",
      "source": [
        "r=\"kusuma\"\n",
        "print(\"y\" in r)\n",
        "print(\"y\" not in r)"
      ],
      "metadata": {
        "colab": {
          "base_uri": "https://localhost:8080/"
        },
        "id": "9n05C8hySPBG",
        "outputId": "1a8e2247-4fa0-4f53-f36e-1e5e0e66856f"
      },
      "execution_count": null,
      "outputs": [
        {
          "output_type": "stream",
          "name": "stdout",
          "text": [
            "False\n",
            "True\n"
          ]
        }
      ]
    },
    {
      "cell_type": "code",
      "source": [
        "for i in range(10,0,-1):\n",
        "  print(i,end=\" \")"
      ],
      "metadata": {
        "colab": {
          "base_uri": "https://localhost:8080/"
        },
        "id": "UUU5-21WarAf",
        "outputId": "d84a5d4c-e076-4203-e1b1-91c86d19e789"
      },
      "execution_count": null,
      "outputs": [
        {
          "output_type": "stream",
          "name": "stdout",
          "text": [
            "10 9 8 7 6 5 4 3 2 1 "
          ]
        }
      ]
    },
    {
      "cell_type": "code",
      "source": [
        "for i in range(chr(97),chr(122)):\n",
        "  print(i)"
      ],
      "metadata": {
        "colab": {
          "base_uri": "https://localhost:8080/",
          "height": 182
        },
        "id": "I9c_g7vJcmvX",
        "outputId": "ea058037-6e31-4e7c-e047-442b5abec66c"
      },
      "execution_count": null,
      "outputs": [
        {
          "output_type": "error",
          "ename": "TypeError",
          "evalue": "ignored",
          "traceback": [
            "\u001b[0;31m---------------------------------------------------------------------------\u001b[0m",
            "\u001b[0;31mTypeError\u001b[0m                                 Traceback (most recent call last)",
            "\u001b[0;32m<ipython-input-18-7c4a3e063eae>\u001b[0m in \u001b[0;36m<module>\u001b[0;34m\u001b[0m\n\u001b[0;32m----> 1\u001b[0;31m \u001b[0;32mfor\u001b[0m \u001b[0mi\u001b[0m \u001b[0;32min\u001b[0m \u001b[0mrange\u001b[0m\u001b[0;34m(\u001b[0m\u001b[0mchr\u001b[0m\u001b[0;34m(\u001b[0m\u001b[0;36m97\u001b[0m\u001b[0;34m)\u001b[0m\u001b[0;34m,\u001b[0m\u001b[0mchr\u001b[0m\u001b[0;34m(\u001b[0m\u001b[0;36m122\u001b[0m\u001b[0;34m)\u001b[0m\u001b[0;34m)\u001b[0m\u001b[0;34m:\u001b[0m\u001b[0;34m\u001b[0m\u001b[0;34m\u001b[0m\u001b[0m\n\u001b[0m\u001b[1;32m      2\u001b[0m   \u001b[0mprint\u001b[0m\u001b[0;34m(\u001b[0m\u001b[0mi\u001b[0m\u001b[0;34m)\u001b[0m\u001b[0;34m\u001b[0m\u001b[0;34m\u001b[0m\u001b[0m\n",
            "\u001b[0;31mTypeError\u001b[0m: 'str' object cannot be interpreted as an integer"
          ]
        }
      ]
    },
    {
      "cell_type": "code",
      "source": [
        "#chr is used to convert unicode values\n",
        "for i in range(97,122):\n",
        "  print(chr(i),end=\" \")"
      ],
      "metadata": {
        "colab": {
          "base_uri": "https://localhost:8080/"
        },
        "id": "84VaEHo-c1a9",
        "outputId": "f4a5fa89-3b90-4318-ccc7-a9e1b8a8d3a3"
      },
      "execution_count": null,
      "outputs": [
        {
          "output_type": "stream",
          "name": "stdout",
          "text": [
            "a b c d e f g h i j k l m n o p q r s t u v w x y "
          ]
        }
      ]
    },
    {
      "cell_type": "code",
      "source": [
        "for i in range(65,91):\n",
        "  if (i==65 or i==69 or i==73 or i==79 or i==85):\n",
        "    print(chr(i),end=\" \")"
      ],
      "metadata": {
        "colab": {
          "base_uri": "https://localhost:8080/"
        },
        "id": "FI8L6JLedT61",
        "outputId": "db5c844c-1d50-444b-a56a-db9b592036ae"
      },
      "execution_count": null,
      "outputs": [
        {
          "output_type": "stream",
          "name": "stdout",
          "text": [
            "A E I O U "
          ]
        }
      ]
    },
    {
      "cell_type": "code",
      "source": [
        "for i in range(65,91):\n",
        "  if (i!=65 and i!=69 and i!=73 and i!=79 and i!=85):\n",
        "    print(chr(i),end=\" \")"
      ],
      "metadata": {
        "colab": {
          "base_uri": "https://localhost:8080/"
        },
        "id": "oWjCW4r1e2oX",
        "outputId": "0765ef7d-44d0-40a5-c59c-a67b3b3edee2"
      },
      "execution_count": null,
      "outputs": [
        {
          "output_type": "stream",
          "name": "stdout",
          "text": [
            "B C D F G H J K L M N P Q R S T V W X Y Z "
          ]
        }
      ]
    },
    {
      "cell_type": "code",
      "source": [
        "days=int(input(\"Enter number of days plan:\"))\n",
        "if(days>84 ):\n",
        "  print(\"the plan was expired please reacharge immediately\")\n",
        "elif(days<=0):\n",
        "  print(\"invalid data plan\" )\n",
        "else:\n",
        "  print(\"your plan will expire in\",84-days)\n",
        "  calls=int(input(\"enter number of calls used:\"))\n",
        "  msg=int(input(\"enter number of messages used on that day:\"))\n",
        "  data=float(input(\"enter data used on that day\"))\n",
        "  if(calls<=3000 and calls>=0):\n",
        "    print(3000-calls,\"calls yet to be used\")\n",
        "  else:\n",
        "    print(\"your call can't be connect\")\n",
        "  if(msg<=100 and msg>=0):\n",
        "    print(100-msg, \"messages yet to be used\")\n",
        "  else:\n",
        "    print(\"your msg can't be sent\")\n",
        "  if(data<=2.0 and data>=0):\n",
        "    print(2.0-data, \"data is left for today\")\n",
        "  else:\n",
        "    print(\"your data limit is exceeded so that your data speed is low\")\n"
      ],
      "metadata": {
        "id": "rE9U9n9efJ2g",
        "colab": {
          "base_uri": "https://localhost:8080/"
        },
        "outputId": "d105325a-6eb3-4a26-9014-d661a03ef060"
      },
      "execution_count": 7,
      "outputs": [
        {
          "output_type": "stream",
          "name": "stdout",
          "text": [
            "Enter number of days plan:10\n",
            "your plan will expire in 74\n",
            "enter number of calls used:-29\n",
            "enter number of messages used on that day:389\n",
            "enter data used on that day1\n",
            "your call can't be connect\n",
            "your msg can't be sent\n",
            "1.0 data is left for today\n"
          ]
        }
      ]
    },
    {
      "cell_type": "code",
      "source": [
        "for i in range(1,151):\n",
        "  if(i%10==0):\n",
        "    print(i)"
      ],
      "metadata": {
        "colab": {
          "base_uri": "https://localhost:8080/"
        },
        "id": "5Pqs7Ze21mBm",
        "outputId": "18be340d-e41a-4fbb-b4d1-56160350eca0"
      },
      "execution_count": 5,
      "outputs": [
        {
          "output_type": "stream",
          "name": "stdout",
          "text": [
            "10\n",
            "20\n",
            "30\n",
            "40\n",
            "50\n",
            "60\n",
            "70\n",
            "80\n",
            "90\n",
            "100\n",
            "110\n",
            "120\n",
            "130\n",
            "140\n",
            "150\n"
          ]
        }
      ]
    },
    {
      "cell_type": "code",
      "source": [
        "for i in range(1,6,2):#print numbers ending with 5 from 1 to 30\n",
        "  print(i*5)"
      ],
      "metadata": {
        "colab": {
          "base_uri": "https://localhost:8080/"
        },
        "id": "WKXqSccA6waF",
        "outputId": "39c06349-dc53-4c08-a45c-67e37067cc1e"
      },
      "execution_count": 6,
      "outputs": [
        {
          "output_type": "stream",
          "name": "stdout",
          "text": [
            "5\n",
            "15\n",
            "25\n"
          ]
        }
      ]
    },
    {
      "cell_type": "code",
      "source": [
        "for i in range(-10,-1,2):\n",
        "  print(i)"
      ],
      "metadata": {
        "colab": {
          "base_uri": "https://localhost:8080/"
        },
        "id": "jkkPEn4X8me2",
        "outputId": "234050d2-d5a7-4f51-a62c-e22859681e4e"
      },
      "execution_count": 9,
      "outputs": [
        {
          "output_type": "stream",
          "name": "stdout",
          "text": [
            "-10\n",
            "-8\n",
            "-6\n",
            "-4\n",
            "-2\n"
          ]
        }
      ]
    },
    {
      "cell_type": "code",
      "source": [
        "for i in range(1,6):\n",
        "  for j in range(1,i+1):\n",
        "    print(\"*\",end=\" \")\n",
        "  print(\"\\n\")"
      ],
      "metadata": {
        "colab": {
          "base_uri": "https://localhost:8080/"
        },
        "id": "YZ48N_2R90o_",
        "outputId": "ad758bff-d70c-48cd-f9c9-44caa2ea63fd"
      },
      "execution_count": 10,
      "outputs": [
        {
          "output_type": "stream",
          "name": "stdout",
          "text": [
            "* \n",
            "\n",
            "* * \n",
            "\n",
            "* * * \n",
            "\n",
            "* * * * \n",
            "\n",
            "* * * * * \n",
            "\n"
          ]
        }
      ]
    },
    {
      "cell_type": "code",
      "source": [
        "for i in range(1,6):\n",
        "  for j in range(1,i+1):\n",
        "    print(j,end=\" \")\n",
        "  print(\"\\n\")"
      ],
      "metadata": {
        "colab": {
          "base_uri": "https://localhost:8080/"
        },
        "id": "m9sUf_ybCFJq",
        "outputId": "6cc5304c-bdc1-41c7-f075-700eb17a2930"
      },
      "execution_count": 28,
      "outputs": [
        {
          "output_type": "stream",
          "name": "stdout",
          "text": [
            "1 \n",
            "\n",
            "1 2 \n",
            "\n",
            "1 2 3 \n",
            "\n",
            "1 2 3 4 \n",
            "\n",
            "1 2 3 4 5 \n",
            "\n"
          ]
        }
      ]
    },
    {
      "cell_type": "code",
      "source": [
        "for i in range(97,123):\n",
        "  for j in range(97,i+1):\n",
        "    print(chr(i),end=\" \")\n",
        "  print(\"\\n\")"
      ],
      "metadata": {
        "colab": {
          "base_uri": "https://localhost:8080/"
        },
        "id": "U57Olx_jCPlt",
        "outputId": "56f92396-59d4-43ed-ae42-9b8e6af2c29b"
      },
      "execution_count": 13,
      "outputs": [
        {
          "output_type": "stream",
          "name": "stdout",
          "text": [
            "a \n",
            "\n",
            "b b \n",
            "\n",
            "c c c \n",
            "\n",
            "d d d d \n",
            "\n",
            "e e e e e \n",
            "\n",
            "f f f f f f \n",
            "\n",
            "g g g g g g g \n",
            "\n",
            "h h h h h h h h \n",
            "\n",
            "i i i i i i i i i \n",
            "\n",
            "j j j j j j j j j j \n",
            "\n",
            "k k k k k k k k k k k \n",
            "\n",
            "l l l l l l l l l l l l \n",
            "\n",
            "m m m m m m m m m m m m m \n",
            "\n",
            "n n n n n n n n n n n n n n \n",
            "\n",
            "o o o o o o o o o o o o o o o \n",
            "\n",
            "p p p p p p p p p p p p p p p p \n",
            "\n",
            "q q q q q q q q q q q q q q q q q \n",
            "\n",
            "r r r r r r r r r r r r r r r r r r \n",
            "\n",
            "s s s s s s s s s s s s s s s s s s s \n",
            "\n",
            "t t t t t t t t t t t t t t t t t t t t \n",
            "\n",
            "u u u u u u u u u u u u u u u u u u u u u \n",
            "\n",
            "v v v v v v v v v v v v v v v v v v v v v v \n",
            "\n",
            "w w w w w w w w w w w w w w w w w w w w w w w \n",
            "\n",
            "x x x x x x x x x x x x x x x x x x x x x x x x \n",
            "\n",
            "y y y y y y y y y y y y y y y y y y y y y y y y y \n",
            "\n",
            "z z z z z z z z z z z z z z z z z z z z z z z z z z \n",
            "\n"
          ]
        }
      ]
    },
    {
      "cell_type": "code",
      "source": [
        "for i in range(97,123,2):\n",
        "  for j in range(97,i+1,2):\n",
        "    print(chr(i),end=\" \")\n",
        "  print(\"\\n\")"
      ],
      "metadata": {
        "colab": {
          "base_uri": "https://localhost:8080/"
        },
        "id": "yqggjrbICkNE",
        "outputId": "ecca8827-f1a2-4bfa-b9cf-2afd9cb7749e"
      },
      "execution_count": 19,
      "outputs": [
        {
          "output_type": "stream",
          "name": "stdout",
          "text": [
            "a \n",
            "\n",
            "c c \n",
            "\n",
            "e e e \n",
            "\n",
            "g g g g \n",
            "\n",
            "i i i i i \n",
            "\n",
            "k k k k k k \n",
            "\n",
            "m m m m m m m \n",
            "\n",
            "o o o o o o o o \n",
            "\n",
            "q q q q q q q q q \n",
            "\n",
            "s s s s s s s s s s \n",
            "\n",
            "u u u u u u u u u u u \n",
            "\n",
            "w w w w w w w w w w w w \n",
            "\n",
            "y y y y y y y y y y y y y \n",
            "\n"
          ]
        }
      ]
    },
    {
      "cell_type": "code",
      "source": [
        "for i in range(1,11):\n",
        "  print(i,\"* 10 =\",i*10)"
      ],
      "metadata": {
        "colab": {
          "base_uri": "https://localhost:8080/"
        },
        "id": "OZ8PC5HFC4nh",
        "outputId": "d7137bad-8a90-4a0d-eb29-d2fdb5508baf"
      },
      "execution_count": 22,
      "outputs": [
        {
          "output_type": "stream",
          "name": "stdout",
          "text": [
            "1 * 10 = 10\n",
            "2 * 10 = 20\n",
            "3 * 10 = 30\n",
            "4 * 10 = 40\n",
            "5 * 10 = 50\n",
            "6 * 10 = 60\n",
            "7 * 10 = 70\n",
            "8 * 10 = 80\n",
            "9 * 10 = 90\n",
            "10 * 10 = 100\n"
          ]
        }
      ]
    },
    {
      "cell_type": "code",
      "source": [
        "i=1\n",
        "\n",
        "while(i<=5):\n",
        "  j=1\n",
        "  while(j<=i):\n",
        "    print(j,end=\" \")\n",
        "    j+=1\n",
        "  print(\"\\n\")\n",
        "  i+=1"
      ],
      "metadata": {
        "colab": {
          "base_uri": "https://localhost:8080/"
        },
        "id": "g_8-bR0JFXuf",
        "outputId": "2bfb72ff-6d0f-434b-eb8f-aab495f5abb7"
      },
      "execution_count": 30,
      "outputs": [
        {
          "output_type": "stream",
          "name": "stdout",
          "text": [
            "1 \n",
            "\n",
            "1 2 \n",
            "\n",
            "1 2 3 \n",
            "\n",
            "1 2 3 4 \n",
            "\n",
            "1 2 3 4 5 \n",
            "\n"
          ]
        }
      ]
    },
    {
      "cell_type": "code",
      "source": [],
      "metadata": {
        "id": "I4C6247RHtmd"
      },
      "execution_count": null,
      "outputs": []
    }
  ]
}